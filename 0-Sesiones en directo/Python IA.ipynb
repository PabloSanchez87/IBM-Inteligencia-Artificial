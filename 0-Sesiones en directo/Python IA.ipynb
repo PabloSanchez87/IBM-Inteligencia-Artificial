{
 "cells": [
  {
   "cell_type": "markdown",
   "id": "56e7cb5f-2e37-4664-bff2-735b09da2cba",
   "metadata": {},
   "source": [
    "# PROGRAMA DE INTELIGENCIA ARTIFICIAL | IBM SkillUp 2024\n",
    "\n",
    "<!-- Tabla con tres logos -->\n",
    "<table align=\"center\">\n",
    "    <tr>\n",
    "        <td><img src=\"https://thepearlhighschool.org/wp-content/uploads/2023/07/rsw_1280-1024x767.webp\" alt=\"IBM\" width=\"350\"></td>\n",
    "        <td><img src=\"https://uptec.up.pt/wp-content/uploads/2022/04/SkillUp_x2.png\" alt=\"Skillup\" width=\"350\"></td>\n",
    "        <td><img src=\"https://visionyvalor.es/wp-content/uploads/2024/03/Python-Symbol_0-3.png\" alt=\"Python\" width=\"300\"></td>\n",
    "    </tr>\n",
    "</table>\n",
    "<br><br>"
   ]
  },
  {
   "cell_type": "markdown",
   "id": "ea61eba8-0d81-4bc2-8373-bb692a5e4c0b",
   "metadata": {},
   "source": [
    "## Predicción de puntuaciones en exámenes usando Regresión Lineal\n",
    "\n",
    "Este proyecto tiene como objetivo desarrollar un modelo de inteligencia artificial sencillo que pueda predecir las puntuaciones de un examen basado en el número de horas de estudio. Utilizando un enfoque de aprendizaje automático supervisado, específicamente una regresión lineal, el proyecto busca establecer una relación entre las horas dedicadas al estudio y los resultados en los exámenes.\n",
    "\n",
    "### Componentes del proyecto\n",
    "- ***Datos de Entrenamiento:***\n",
    "Se utilizarán datos de ejemplo consistentes en pares de valores que representan horas de estudio y sus correspondientes puntajes en exámenes. Estos datos sirven para enseñar al modelo a identificar patrones y relaciones.\n",
    "\n",
    "- ***Modelo de Regresión Lineal:***\n",
    "La regresión lineal es una técnica de aprendizaje automático que encuentra la mejor línea que representa la relación entre las variables independientes (horas de estudio) y la variable dependiente (puntajes de examen).\n",
    "\n",
    "- ***Entrenamiento del Modelo:*** \n",
    "El modelo se entrenará utilizando los datos de entrada proporcionados. Esto implica ajustar el modelo para minimizar la diferencia entre los puntajes reales y los predichos.\n",
    "\n",
    "- ***Predicción:*** \n",
    "Una vez entrenado, el modelo podrá predecir puntajes para nuevas horas de estudio que no se hayan visto antes, proporcionando una herramienta útil para estimar el rendimiento en exámenes basado en la cantidad de estudio.\n",
    "\n",
    "### Objetivo del Proyecto\n",
    "El objetivo principal es demostrar cómo se puede utilizar un modelo de aprendizaje automático simple para realizar predicciones basadas en datos históricos. Este ejemplo sirve como introducción a los conceptos básicos de la inteligencia artificial y el aprendizaje automático, y cómo estas técnicas pueden aplicarse para resolver problemas del mundo real de manera efectiva."
   ]
  },
  {
   "cell_type": "markdown",
   "id": "792322a9-d1c9-4409-b910-015aafc9844f",
   "metadata": {},
   "source": [
    "#### Codigo I"
   ]
  },
  {
   "cell_type": "code",
   "execution_count": 1,
   "id": "de70448c-e62c-4e32-89ba-a81db31254a1",
   "metadata": {},
   "outputs": [
    {
     "name": "stdout",
     "output_type": "stream",
     "text": [
      "Si estudias 6 horas, la puntuación esperada en el examen es: 9.399999999999999\n"
     ]
    }
   ],
   "source": [
    "# Importamos las bibliotecas necesarias\n",
    "import numpy as np #trabajar con datos numéricos\n",
    "from sklearn.linear_model import LinearRegression #Algoritmo de entrenamiento\n",
    "\n",
    "\n",
    "# Datos de ejemplo:\n",
    "x = np.array([[1], [2], [3], [4], [5]])  # Horas de estudio\n",
    "y = np.array([2, 4, 5, 4, 5]) # puntuaciones en el exámen\n",
    "\n",
    "# Creamos un modelo de regresión lineal\n",
    "modelo = LinearRegression()\n",
    "\n",
    "# Entrenamos el modelo usando los datos de ejemplo\n",
    "modelo.fit(x, y)\n",
    "\n",
    "# Hacemos una predicción: ¿cuál sería el puntaje para alguien que estudia 6 horas?\n",
    "horas_estudio = np.array([[12]])\n",
    "prediccion = modelo.predict(horas_estudio)\n",
    "\n",
    "# Limitamos la puntuaciones a 10\n",
    "limite = min(prediccion[0], 10) #devuelve el menor \n",
    "\n",
    "#imprimimos predicciónes \n",
    "print(f\"Si estudias 6 horas, la puntuación esperada en el examen es: {limite}\")\n"
   ]
  },
  {
   "cell_type": "markdown",
   "id": "7f4607e5-1613-4825-8b13-a015cf1bebff",
   "metadata": {},
   "source": [
    "## Ejemplo con K-Nearest Neighbors (k-NN)\n",
    "\n",
    "### Objetivo del Proyecto\n",
    "Desarrollar un modelo simple de inteligencia artificial que clasifique flores en dos categorías basándose en características como la longitud y el ancho del pétalo, utilizando el algoritmo k-Nearest Neighbors (k-NN).\n",
    "\n",
    "### Descripción General\n",
    "El proyecto utiliza un conjunto de datos con ejemplos de flores caracterizadas por dos atributos (longitud y ancho de pétalos). El modelo L-NN encuentra los 3 vecinos más cercanos de una flor desconocida para predecir su categoría.\n",
    "\n",
    "### Componentes Principales\n",
    "- ***Datos de Entrenamiento:*** Muestras de flores con dos -características numéricas y una etiqueta de clase.\n",
    "- ***Algoritmo k-NN:*** Clasifica nuevas muestras basándose en la distancia a los vecinos más cercanos.\n",
    "- ***División de Datos:*** Separación en conjuntos de entrenamiento y prueba para evaluar la precisión del modelo.\n",
    "- ***Entrenamiento y Evaluación:*** El modelo se entrena con datos de entrenamiento y se evalúa con datos de prueba para medir su precisión.\n"
   ]
  },
  {
   "cell_type": "markdown",
   "id": "3d57714d-5168-4851-a905-b37d144bfa67",
   "metadata": {},
   "source": [
    "#### Codigo II"
   ]
  },
  {
   "cell_type": "code",
   "execution_count": 2,
   "id": "3e72a08c-9a54-403b-9bf6-1fc82b6e6b92",
   "metadata": {},
   "outputs": [
    {
     "name": "stdout",
     "output_type": "stream",
     "text": [
      "Precisión del modelo: 100.00%\n",
      "Predicciones para el conjunto de prueba: [1 0]\n"
     ]
    }
   ],
   "source": [
    "# Importamos las bibliotecas necesarias\n",
    "import numpy as np\n",
    "from sklearn.neighbors import KNeighborsClassifier\n",
    "from sklearn.model_selection import train_test_split\n",
    "from sklearn.metrics import accuracy_score\n",
    "\n",
    "# Datos de ejemplo: longitud y ancho de pétalo (X) y tipo de flor (y)\n",
    "# Aquí 0 representa una clase (por ejemplo, Flor A) y 1 representa otra clase (Flor B)\n",
    "X = np.array([[1, 1], [2, 1], [3, 2], [6, 5], [7, 7], [8, 6]])\n",
    "y = np.array([0, 0, 0, 1, 1, 1])\n",
    "\n",
    "# Dividimos los datos en conjuntos de entrenamiento y prueba, estratificando para mantener la proporción de clases\n",
    "X_train, X_test, y_train, y_test = train_test_split(X, y, test_size=0.2, random_state=42, stratify=y)\n",
    "\n",
    "# Creamos un modelo k-NN con k=3 (buscaremos los 3 vecinos más cercanos)\n",
    "modelo = KNeighborsClassifier(n_neighbors=3)\n",
    "\n",
    "# Entrenamos el modelo usando los datos de entrenamiento\n",
    "modelo.fit(X_train, y_train)\n",
    "\n",
    "# Hacemos una predicción usando los datos de prueba\n",
    "y_pred = modelo.predict(X_test)\n",
    "\n",
    "# Calculamos la precisión de la predicción\n",
    "precision = accuracy_score(y_test, y_pred)\n",
    "\n",
    "# Imprimimos la precisión y las predicciones\n",
    "print(f\"Precisión del modelo: {precision * 100:.2f}%\")\n",
    "print(f\"Predicciones para el conjunto de prueba: {y_pred}\")\n"
   ]
  },
  {
   "cell_type": "code",
   "execution_count": null,
   "id": "8f29a30c-c01b-4cd7-b9aa-78a8858947d4",
   "metadata": {},
   "outputs": [],
   "source": []
  }
 ],
 "metadata": {
  "kernelspec": {
   "display_name": ".env",
   "language": "python",
   "name": "python3"
  },
  "language_info": {
   "codemirror_mode": {
    "name": "ipython",
    "version": 3
   },
   "file_extension": ".py",
   "mimetype": "text/x-python",
   "name": "python",
   "nbconvert_exporter": "python",
   "pygments_lexer": "ipython3",
   "version": "3.10.12"
  }
 },
 "nbformat": 4,
 "nbformat_minor": 5
}
