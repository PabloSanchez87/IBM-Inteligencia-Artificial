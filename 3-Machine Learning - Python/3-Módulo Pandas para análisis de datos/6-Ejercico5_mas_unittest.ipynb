{
 "cells": [
  {
   "cell_type": "markdown",
   "metadata": {},
   "source": [
    "**Rellenar Valores Nulos con la Media de una Columna**\n",
    "\n",
    "Desarrolla una función llamada rellenar_con_media que tome como entrada un DataFrame de pandas y el nombre de una columna. La función debe calcular la media de esa columna y luego llenar los valores nulos en esa columna con la media calculada.\n",
    "\n",
    "```python\n",
    "def rellenar_con_media(dataframe, columna):\n",
    "\n",
    "# Ejemplo de uso\n",
    "data = {\n",
    "    'nombre': ['Alice', 'Bob', 'Charlie', 'David', 'Eve'],\n",
    "    'edad': [20, None, 18, 25, None],\n",
    "    'calificaciones': [90, 88, None, None, 95]\n",
    "}\n",
    " \n",
    "df = pd.DataFrame(data)\n",
    "columna = 'calificaciones'\n",
    " \n",
    "resultado = rellenar_con_media(df, columna)\n",
    "print(resultado)\n",
    "```\n",
    "\n",
    "```\n",
    "Resultado:\n",
    "\n",
    "\n",
    "\n",
    "   nombre  edad  calificaciones\n",
    "0    Alice  20.0            90.0\n",
    "1      Bob   NaN            88.0\n",
    "2  Charlie  18.0            91.0\n",
    "3    David  25.0            91.0\n",
    "4      Eve   NaN            95.0\n",
    "```"
   ]
  },
  {
   "cell_type": "code",
   "execution_count": 2,
   "metadata": {},
   "outputs": [
    {
     "name": "stdout",
     "output_type": "stream",
     "text": [
      "    nombre  edad  calificaciones\n",
      "0    Alice  20.0            90.0\n",
      "1      Bob   NaN            88.0\n",
      "2  Charlie  18.0            91.0\n",
      "3    David  25.0            91.0\n",
      "4      Eve   NaN            95.0\n"
     ]
    }
   ],
   "source": [
    "import pandas as pd\n",
    "\n",
    "def rellenar_con_media(dataframe, columna):\n",
    "    # Calcular la media de la columna, excluyendo los valores nulos\n",
    "    media = dataframe[columna].mean()\n",
    "    # Rellenar los valores nulos de la columna con la media calculada\n",
    "    dataframe[columna] = dataframe[columna].fillna(media)\n",
    "    return dataframe\n",
    "\n",
    "# Ejemplo de uso\n",
    "data = {\n",
    "    'nombre': ['Alice', 'Bob', 'Charlie', 'David', 'Eve'],\n",
    "    'edad': [20, None, 18, 25, None],\n",
    "    'calificaciones': [90, 88, None, None, 95]\n",
    "}\n",
    "\n",
    "df = pd.DataFrame(data)\n",
    "columna = 'calificaciones'\n",
    "\n",
    "resultado = rellenar_con_media(df, columna)\n",
    "print(resultado)\n",
    "\n"
   ]
  },
  {
   "cell_type": "code",
   "execution_count": 3,
   "metadata": {},
   "outputs": [
    {
     "name": "stderr",
     "output_type": "stream",
     "text": [
      "test_rellenar_calificaciones_con_media (__main__.TestRellenarConMedia)\n",
      "Test para verificar que se rellenen valores nulos en la columna calificaciones con la media. ... ok\n",
      "test_rellenar_edad_con_media (__main__.TestRellenarConMedia)\n",
      "Test para verificar que se rellenen valores nulos en la columna edad con la media. ... ok\n",
      "\n",
      "----------------------------------------------------------------------\n",
      "Ran 2 tests in 0.004s\n",
      "\n",
      "OK\n"
     ]
    },
    {
     "data": {
      "text/plain": [
       "<unittest.main.TestProgram at 0x7f61dae99690>"
      ]
     },
     "execution_count": 3,
     "metadata": {},
     "output_type": "execute_result"
    }
   ],
   "source": [
    "import unittest\n",
    "\n",
    "# Función a probar\n",
    "def rellenar_con_media(dataframe, columna):\n",
    "    media = dataframe[columna].mean()\n",
    "    dataframe[columna] = dataframe[columna].fillna(media)\n",
    "    return dataframe\n",
    "\n",
    "# Clase de prueba unitaria\n",
    "class TestRellenarConMedia(unittest.TestCase):\n",
    "    \n",
    "    def setUp(self):\n",
    "        \"\"\"Configurar el DataFrame de prueba.\"\"\"\n",
    "        self.data = {\n",
    "            'nombre': ['Alice', 'Bob', 'Charlie', 'David', 'Eve'],\n",
    "            'edad': [20, None, 18, 25, None],\n",
    "            'calificaciones': [90, 88, None, None, 95]\n",
    "        }\n",
    "        self.df = pd.DataFrame(self.data)\n",
    "    \n",
    "    def test_rellenar_calificaciones_con_media(self):\n",
    "        \"\"\"Test para verificar que se rellenen valores nulos en la columna calificaciones con la media.\"\"\"\n",
    "        columna = 'calificaciones'\n",
    "        resultado = rellenar_con_media(self.df.copy(), columna)\n",
    "        \n",
    "        # Calcular el valor esperado de la media y crear DataFrame esperado\n",
    "        media_calificaciones = self.df['calificaciones'].mean()\n",
    "        esperado = self.df.copy()\n",
    "        esperado['calificaciones'] = esperado['calificaciones'].fillna(media_calificaciones)\n",
    "        \n",
    "        pd.testing.assert_frame_equal(resultado, esperado)\n",
    "\n",
    "    def test_rellenar_edad_con_media(self):\n",
    "        \"\"\"Test para verificar que se rellenen valores nulos en la columna edad con la media.\"\"\"\n",
    "        columna = 'edad'\n",
    "        resultado = rellenar_con_media(self.df.copy(), columna)\n",
    "        \n",
    "        # Calcular el valor esperado de la media y crear DataFrame esperado\n",
    "        media_edad = self.df['edad'].mean()\n",
    "        esperado = self.df.copy()\n",
    "        esperado['edad'] = esperado['edad'].fillna(media_edad)\n",
    "        \n",
    "        pd.testing.assert_frame_equal(resultado, esperado)\n",
    "\n",
    "# Ejecutar las pruebas\n",
    "unittest.main(argv=[''], verbosity=2, exit=False)\n"
   ]
  }
 ],
 "metadata": {
  "kernelspec": {
   "display_name": ".env",
   "language": "python",
   "name": "python3"
  },
  "language_info": {
   "codemirror_mode": {
    "name": "ipython",
    "version": 3
   },
   "file_extension": ".py",
   "mimetype": "text/x-python",
   "name": "python",
   "nbconvert_exporter": "python",
   "pygments_lexer": "ipython3",
   "version": "3.10.12"
  }
 },
 "nbformat": 4,
 "nbformat_minor": 2
}
