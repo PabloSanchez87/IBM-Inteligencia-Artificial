{
 "cells": [
  {
   "cell_type": "markdown",
   "metadata": {},
   "source": [
    "**Seleccionar datos**\n",
    "\n",
    "Desarrolla una función llamada seleccionar_datos que tome como entrada un DataFrame de pandas que contiene información sobre estudiantes (por ejemplo, nombre, edad, calificaciones, etc.) y seleccione un subconjunto de datos basado en ciertos criterios.\n",
    "\n",
    "Los criterios se pueden basar en el nombre, edad o calificaciones\n",
    "\n",
    "```python\t\n",
    "def seleccionar_datos(dataframe, criterio):\n",
    "\n",
    "\n",
    "# Ejemplo de uso\n",
    "data = {\n",
    "    'nombre': ['Alice', 'Bob', 'Charlie', 'David'],\n",
    "    'edad': [20, 22, 18, 25],\n",
    "    'calificaciones': [90, 88, 75, 95]\n",
    "}\n",
    " \n",
    "df = pd.DataFrame(data)\n",
    "criterio = 'edad > 18'\n",
    "resultado = seleccionar_datos(df, criterio)\n",
    "print(resultado)\n",
    "```\n",
    "\n",
    "```\n",
    "  nombre  edad  calificaciones\n",
    "0  Alice    20              90\n",
    "1    Bob    22              88\n",
    "3  David    25              95\n",
    "```\t"
   ]
  },
  {
   "cell_type": "code",
   "execution_count": 1,
   "metadata": {},
   "outputs": [
    {
     "name": "stdout",
     "output_type": "stream",
     "text": [
      "  nombre  edad  calificaciones\n",
      "0  Alice    20              90\n",
      "1    Bob    22              88\n",
      "3  David    25              95\n"
     ]
    }
   ],
   "source": [
    "import pandas as pd\n",
    "\n",
    "def seleccionar_datos(dataframe, criterio):\n",
    "    return dataframe.query(criterio)\n",
    "\n",
    "# Ejemplo de uso\n",
    "data = {\n",
    "    'nombre': ['Alice', 'Bob', 'Charlie', 'David'],\n",
    "    'edad': [20, 22, 18, 25],\n",
    "    'calificaciones': [90, 88, 75, 95]\n",
    "}\n",
    " \n",
    "df = pd.DataFrame(data)\n",
    "criterio = 'edad > 18'\n",
    "resultado = seleccionar_datos(df, criterio)\n",
    "print(resultado)"
   ]
  },
  {
   "cell_type": "code",
   "execution_count": 2,
   "metadata": {},
   "outputs": [
    {
     "name": "stderr",
     "output_type": "stream",
     "text": [
      "test_cualificaciones_altas (__main__.TestSeleccionarDatos)\n",
      "Test para seleccionar estudiantes con calificaciones mayores o iguales a 90. ... ok\n",
      "test_edad_mayor_de_18 (__main__.TestSeleccionarDatos)\n",
      "Test para seleccionar estudiantes con edad mayor de 18 años. ... ok\n",
      "\n",
      "----------------------------------------------------------------------\n",
      "Ran 2 tests in 0.005s\n",
      "\n",
      "OK\n"
     ]
    },
    {
     "data": {
      "text/plain": [
       "<unittest.main.TestProgram at 0x7f139e6964d0>"
      ]
     },
     "execution_count": 2,
     "metadata": {},
     "output_type": "execute_result"
    }
   ],
   "source": [
    "import unittest\n",
    "\n",
    "# Función a probar\n",
    "def seleccionar_datos(dataframe, criterio):\n",
    "    return dataframe.query(criterio)\n",
    "\n",
    "# Clase de prueba unitaria\n",
    "class TestSeleccionarDatos(unittest.TestCase):\n",
    "    \n",
    "    def setUp(self):\n",
    "        \"\"\"Configurar el DataFrame de prueba.\"\"\"\n",
    "        self.data = {\n",
    "            'nombre': ['Alice', 'Bob', 'Charlie', 'David'],\n",
    "            'edad': [20, 22, 18, 25],\n",
    "            'calificaciones': [90, 88, 75, 95]\n",
    "        }\n",
    "        self.df = pd.DataFrame(self.data)\n",
    "    \n",
    "    def test_cualificaciones_altas(self):\n",
    "        \"\"\"Test para seleccionar estudiantes con calificaciones mayores o iguales a 90.\"\"\"\n",
    "        criterio = 'calificaciones >= 90'\n",
    "        resultado = seleccionar_datos(self.df, criterio)\n",
    "        esperado = pd.DataFrame({\n",
    "            'nombre': ['Alice', 'David'],\n",
    "            'edad': [20, 25],\n",
    "            'calificaciones': [90, 95]\n",
    "        }).reset_index(drop=True)\n",
    "        pd.testing.assert_frame_equal(resultado.reset_index(drop=True), esperado)\n",
    "\n",
    "    def test_edad_mayor_de_18(self):\n",
    "        \"\"\"Test para seleccionar estudiantes con edad mayor de 18 años.\"\"\"\n",
    "        criterio = 'edad > 18'\n",
    "        resultado = seleccionar_datos(self.df, criterio)\n",
    "        esperado = pd.DataFrame({\n",
    "            'nombre': ['Alice', 'Bob', 'David'],\n",
    "            'edad': [20, 22, 25],\n",
    "            'calificaciones': [90, 88, 95]\n",
    "        }).reset_index(drop=True)\n",
    "        pd.testing.assert_frame_equal(resultado.reset_index(drop=True), esperado)\n",
    "\n",
    "# Ejecutar las pruebas\n",
    "unittest.main(argv=[''], verbosity=2, exit=False)\n"
   ]
  }
 ],
 "metadata": {
  "kernelspec": {
   "display_name": ".env",
   "language": "python",
   "name": "python3"
  },
  "language_info": {
   "codemirror_mode": {
    "name": "ipython",
    "version": 3
   },
   "file_extension": ".py",
   "mimetype": "text/x-python",
   "name": "python",
   "nbconvert_exporter": "python",
   "pygments_lexer": "ipython3",
   "version": "3.10.12"
  }
 },
 "nbformat": 4,
 "nbformat_minor": 2
}
