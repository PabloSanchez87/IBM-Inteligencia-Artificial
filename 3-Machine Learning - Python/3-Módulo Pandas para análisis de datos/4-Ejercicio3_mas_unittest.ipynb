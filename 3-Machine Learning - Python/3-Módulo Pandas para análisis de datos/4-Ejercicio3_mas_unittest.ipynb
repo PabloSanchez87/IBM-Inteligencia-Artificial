{
 "cells": [
  {
   "cell_type": "markdown",
   "metadata": {},
   "source": [
    "**Calcular promedio**\n",
    "\n",
    "Desarrolla una función llamada calcular_promedio que tome como entrada un DataFrame de pandas que contiene datos numéricos y calcule el promedio de cada columna. La función debe devolver un nuevo DataFrame que contenga los promedios de cada columna.\n",
    "\n",
    "```python\t\n",
    "def calcular_promedio(dataframe):\n",
    "\n",
    "\n",
    "# Ejemplo de uso\n",
    "data = {\n",
    "    'A': [1, 2, 3, 4],\n",
    "    'B': [5, 6, 7, 8],\n",
    "    'C': [9, 10, 11, 12]\n",
    "}\n",
    " \n",
    "df = pd.DataFrame(data)\n",
    "resultado = calcular_promedio(df)\n",
    "print(resultado)\n",
    "\n",
    "\n",
    "Resultado\n",
    "```\n",
    "\n",
    "```\n",
    "A     2.5\n",
    "B     6.5\n",
    "C    10.5\n",
    "dtype: float64\n",
    "```\t\n"
   ]
  },
  {
   "cell_type": "code",
   "execution_count": 3,
   "metadata": {},
   "outputs": [
    {
     "name": "stdout",
     "output_type": "stream",
     "text": [
      "A     2.5\n",
      "B     6.5\n",
      "C    10.5\n",
      "dtype: float64\n"
     ]
    }
   ],
   "source": [
    "import pandas as pd\n",
    "\n",
    "def calcular_promedio(dataframe):\n",
    "    return dataframe.mean()\n",
    "\n",
    "# Ejemplo de uso\n",
    "data = {\n",
    "    'A': [1, 2, 3, 4],\n",
    "    'B': [5, 6, 7, 8],\n",
    "    'C': [9, 10, 11, 12]\n",
    "}\n",
    "\n",
    "df = pd.DataFrame(data)\n",
    "resultado = calcular_promedio(df)\n",
    "print(resultado)\n"
   ]
  },
  {
   "cell_type": "code",
   "execution_count": 4,
   "metadata": {},
   "outputs": [
    {
     "name": "stderr",
     "output_type": "stream",
     "text": [
      "test_dataframe_vacio (__main__.TestCalcularPromedio)\n",
      "Test para verificar que el promedio de un DataFrame vacío es una Serie vacía. ... ok\n",
      "test_promedio_columnas (__main__.TestCalcularPromedio)\n",
      "Test para verificar el cálculo del promedio de cada columna. ... ok\n",
      "\n",
      "----------------------------------------------------------------------\n",
      "Ran 2 tests in 0.003s\n",
      "\n",
      "OK\n"
     ]
    },
    {
     "data": {
      "text/plain": [
       "<unittest.main.TestProgram at 0x7f7c39f0a380>"
      ]
     },
     "execution_count": 4,
     "metadata": {},
     "output_type": "execute_result"
    }
   ],
   "source": [
    "import unittest\n",
    "\n",
    "# Función a probar\n",
    "def calcular_promedio(dataframe):\n",
    "    return dataframe.mean()\n",
    "\n",
    "# Clase de prueba unitaria\n",
    "class TestCalcularPromedio(unittest.TestCase):\n",
    "    \n",
    "    def test_dataframe_vacio(self):\n",
    "        \"\"\"Test para verificar que el promedio de un DataFrame vacío es una Serie vacía.\"\"\"\n",
    "        df_vacio = pd.DataFrame()\n",
    "        resultado = calcular_promedio(df_vacio)\n",
    "        self.assertTrue(resultado.empty, \"El resultado debería ser una Serie vacía para un DataFrame vacío.\")\n",
    "    \n",
    "    def test_promedio_columnas(self):\n",
    "        \"\"\"Test para verificar el cálculo del promedio de cada columna.\"\"\"\n",
    "        data = {\n",
    "            'A': [1, 2, 3, 4],\n",
    "            'B': [5, 6, 7, 8],\n",
    "            'C': [9, 10, 11, 12]\n",
    "        }\n",
    "        df = pd.DataFrame(data)\n",
    "        resultado = calcular_promedio(df)\n",
    "        esperado = pd.Series({'A': 2.5, 'B': 6.5, 'C': 10.5})\n",
    "        pd.testing.assert_series_equal(resultado, esperado, check_dtype=False)\n",
    "\n",
    "# Ejecutar las pruebas\n",
    "unittest.main(argv=[''], verbosity=2, exit=False)  # permite ejecutar las pruebas en un entorno de Jupyter Notebook sin que el kernel se detenga.\n"
   ]
  }
 ],
 "metadata": {
  "kernelspec": {
   "display_name": ".env",
   "language": "python",
   "name": "python3"
  },
  "language_info": {
   "codemirror_mode": {
    "name": "ipython",
    "version": 3
   },
   "file_extension": ".py",
   "mimetype": "text/x-python",
   "name": "python",
   "nbconvert_exporter": "python",
   "pygments_lexer": "ipython3",
   "version": "3.10.12"
  }
 },
 "nbformat": 4,
 "nbformat_minor": 2
}
