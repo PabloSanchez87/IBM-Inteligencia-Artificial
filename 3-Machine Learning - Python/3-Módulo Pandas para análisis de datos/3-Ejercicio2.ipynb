{
 "cells": [
  {
   "cell_type": "markdown",
   "metadata": {},
   "source": [
    "El objetivo será crear un dataframe con las ventas de nuestras 3 oficinas para los meses de enero, febrero y marzo.\n",
    "- Crear una variable \"ventas_enero\" que contenga una lista de 3 números enteros aleatorios entre 100 y 500.\n",
    "- Crear una variable \"ventas_febrero\" que contenga una lista de 3 números enteros aleatorios entre 100 y 500.\n",
    "- Crear una variable \"ventas_marzo\" que contenga una lista de 3 números enteros aleatorios entre 100 y 500.\n",
    "- Crear una variable \"filas\" que contenga esta lista de palabras: \"ventas_enero\", \"ventas_febrero\", \"ventas_marzo\".\n",
    "- Crear una variable \"columnas\" que contenga esta lista de palabras: \"oficina1\", \"oficina2\", \"oficina3\".\n",
    "- Crear una variable \"ventas\" que contenta una lista con los valores de ventas de enero, febrero y marzo.\n",
    "- Crear un dataframe \"datafame\" que contenga las ventas, filas y columnas.\n",
    "- Mediante print muestra el valor de \"Las ventas de enero para la oficina 1 son de ...\""
   ]
  },
  {
   "cell_type": "code",
   "execution_count": 31,
   "metadata": {},
   "outputs": [],
   "source": [
    "import pandas as pd\n",
    "import numpy as np"
   ]
  },
  {
   "cell_type": "code",
   "execution_count": 32,
   "metadata": {},
   "outputs": [
    {
     "data": {
      "text/plain": [
       "array([104, 311, 255])"
      ]
     },
     "execution_count": 32,
     "metadata": {},
     "output_type": "execute_result"
    }
   ],
   "source": [
    "ventas_enero = np.random.randint(100, 500, 3)\n",
    "ventas_enero"
   ]
  },
  {
   "cell_type": "code",
   "execution_count": 33,
   "metadata": {},
   "outputs": [
    {
     "data": {
      "text/plain": [
       "array([226, 163, 311])"
      ]
     },
     "execution_count": 33,
     "metadata": {},
     "output_type": "execute_result"
    }
   ],
   "source": [
    "ventas_febrero = np.random.randint(100, 500, 3)\n",
    "ventas_febrero"
   ]
  },
  {
   "cell_type": "code",
   "execution_count": 34,
   "metadata": {},
   "outputs": [
    {
     "data": {
      "text/plain": [
       "array([207, 355, 454])"
      ]
     },
     "execution_count": 34,
     "metadata": {},
     "output_type": "execute_result"
    }
   ],
   "source": [
    "ventas_marzo = np.random.randint(100, 500, 3)\n",
    "ventas_marzo"
   ]
  },
  {
   "cell_type": "code",
   "execution_count": 35,
   "metadata": {},
   "outputs": [
    {
     "data": {
      "text/plain": [
       "['ventas_enero', 'ventas_febrero', 'ventas_marzo']"
      ]
     },
     "execution_count": 35,
     "metadata": {},
     "output_type": "execute_result"
    }
   ],
   "source": [
    "filas = ['ventas_enero', 'ventas_febrero', 'ventas_marzo']\n",
    "filas"
   ]
  },
  {
   "cell_type": "code",
   "execution_count": 36,
   "metadata": {},
   "outputs": [
    {
     "data": {
      "text/plain": [
       "['oficina1', 'oficina2', 'oficina3']"
      ]
     },
     "execution_count": 36,
     "metadata": {},
     "output_type": "execute_result"
    }
   ],
   "source": [
    "columnas = ['oficina1', 'oficina2', 'oficina3']\n",
    "columnas"
   ]
  },
  {
   "cell_type": "code",
   "execution_count": 37,
   "metadata": {},
   "outputs": [
    {
     "data": {
      "text/plain": [
       "[array([104, 311, 255]), array([226, 163, 311]), array([207, 355, 454])]"
      ]
     },
     "execution_count": 37,
     "metadata": {},
     "output_type": "execute_result"
    }
   ],
   "source": [
    "ventas = [ventas_enero, ventas_febrero, ventas_marzo]\n",
    "ventas"
   ]
  },
  {
   "cell_type": "code",
   "execution_count": 38,
   "metadata": {},
   "outputs": [
    {
     "name": "stdout",
     "output_type": "stream",
     "text": [
      "                oficina1  oficina2  oficina3\n",
      "ventas_enero         104       311       255\n",
      "ventas_febrero       226       163       311\n",
      "ventas_marzo         207       355       454\n"
     ]
    }
   ],
   "source": [
    "dataframe = pd.DataFrame(ventas, index=filas, columns=columnas)\n",
    "print(dataframe)"
   ]
  },
  {
   "cell_type": "code",
   "execution_count": 41,
   "metadata": {},
   "outputs": [],
   "source": [
    "ventas_enero_oficina1 = dataframe['oficina1']['ventas_enero']"
   ]
  },
  {
   "cell_type": "code",
   "execution_count": 42,
   "metadata": {},
   "outputs": [
    {
     "name": "stdout",
     "output_type": "stream",
     "text": [
      "Las ventas de enero para la oficina 1 son de 104\n"
     ]
    }
   ],
   "source": [
    "print(f'Las ventas de enero para la oficina 1 son de {ventas_enero_oficina1}')"
   ]
  }
 ],
 "metadata": {
  "kernelspec": {
   "display_name": ".env",
   "language": "python",
   "name": "python3"
  },
  "language_info": {
   "codemirror_mode": {
    "name": "ipython",
    "version": 3
   },
   "file_extension": ".py",
   "mimetype": "text/x-python",
   "name": "python",
   "nbconvert_exporter": "python",
   "pygments_lexer": "ipython3",
   "version": "3.10.12"
  }
 },
 "nbformat": 4,
 "nbformat_minor": 2
}
