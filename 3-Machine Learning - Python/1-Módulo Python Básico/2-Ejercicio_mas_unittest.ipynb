{
 "cells": [
  {
   "cell_type": "markdown",
   "metadata": {},
   "source": [
    "**Ejercicio de codificación : Operaciones Matemáticas**\n",
    "\n",
    "Crear una función que reciba 2 números como parámetros y que devuelva la suma, resta, multiplicación, división y resto de las operaciones entre ambos números\n",
    "\n",
    "```python\n",
    "def operaciones_matematicas(a, b):\n",
    "\n",
    "\n",
    "\n",
    "# Prueba la función con valores específicos\n",
    "a = 10\n",
    "b = 3\n",
    " \n",
    "resultado = operaciones_matematicas(a, b)\n",
    "print(\"Suma:\", resultado[0])\n",
    "print(\"Resta:\", resultado[1])\n",
    "print(\"Multiplicación:\", resultado[2])\n",
    "print(\"División:\", resultado[3])\n",
    "print(\"Residuo:\", resultado[4])\n",
    "\n",
    "```\n",
    "\n",
    "Resultados:\n",
    "\n",
    "Suma: 13\n",
    "Resta: 7\n",
    "Multiplicación: 30\n",
    "División: 3.3333333333333335\n",
    "Residuo: 1\n"
   ]
  },
  {
   "cell_type": "code",
   "execution_count": 1,
   "metadata": {},
   "outputs": [
    {
     "name": "stdout",
     "output_type": "stream",
     "text": [
      "Suma: 13\n",
      "Resta: 7\n",
      "Multiplicación: 30\n",
      "División: 3.3333333333333335\n",
      "Residuo: 1\n"
     ]
    }
   ],
   "source": [
    "def operaciones_matematicas(a, b):\n",
    "    suma = a + b\n",
    "    resta = a - b\n",
    "    multiplicacion = a * b\n",
    "    division = a / b\n",
    "    residuo = a % b\n",
    "    return suma, resta, multiplicacion, division, residuo\n",
    "\n",
    "# Prueba la función con valores específicos\n",
    "a = 10\n",
    "b = 3\n",
    "\n",
    "resultado = operaciones_matematicas(a, b)\n",
    "print(\"Suma:\", resultado[0])\n",
    "print(\"Resta:\", resultado[1])\n",
    "print(\"Multiplicación:\", resultado[2])\n",
    "print(\"División:\", resultado[3])\n",
    "print(\"Residuo:\", resultado[4])\n"
   ]
  },
  {
   "cell_type": "code",
   "execution_count": 2,
   "metadata": {},
   "outputs": [
    {
     "name": "stderr",
     "output_type": "stream",
     "text": [
      "test_operaciones (__main__.TestOperacionesMatematicas) ... ok\n",
      "\n",
      "----------------------------------------------------------------------\n",
      "Ran 1 test in 0.001s\n",
      "\n",
      "OK\n"
     ]
    },
    {
     "data": {
      "text/plain": [
       "<unittest.main.TestProgram at 0x7f69cf749f90>"
      ]
     },
     "execution_count": 2,
     "metadata": {},
     "output_type": "execute_result"
    }
   ],
   "source": [
    "\n",
    "import unittest\n",
    "\n",
    "# Clase de prueba unitaria\n",
    "class TestOperacionesMatematicas(unittest.TestCase):\n",
    "    def test_operaciones(self):\n",
    "        # Pruebas para la función operaciones_matematicas\n",
    "        self.assertEqual(operaciones_matematicas(10, 3), (13, 7, 30, 10/3, 10%3))\n",
    "        self.assertEqual(operaciones_matematicas(5, 2), (7, 3, 10, 5/2, 5%2))\n",
    "        self.assertEqual(operaciones_matematicas(20, 4), (24, 16, 80, 20/4, 20%4))\n",
    "        self.assertEqual(operaciones_matematicas(15, 5), (20, 10, 75, 15/5, 15%5))\n",
    "\n",
    "# Ejecución de las pruebas unitarias\n",
    "unittest.main(argv=[''], verbosity=2,  exit=False)"
   ]
  }
 ],
 "metadata": {
  "kernelspec": {
   "display_name": ".env",
   "language": "python",
   "name": "python3"
  },
  "language_info": {
   "codemirror_mode": {
    "name": "ipython",
    "version": 3
   },
   "file_extension": ".py",
   "mimetype": "text/x-python",
   "name": "python",
   "nbconvert_exporter": "python",
   "pygments_lexer": "ipython3",
   "version": "3.10.12"
  }
 },
 "nbformat": 4,
 "nbformat_minor": 2
}
