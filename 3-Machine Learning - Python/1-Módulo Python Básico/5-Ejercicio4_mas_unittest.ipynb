{
 "cells": [
  {
   "cell_type": "markdown",
   "metadata": {},
   "source": [
    "**Aplicar una Función y Filtrar Elementos en una Lista**\n",
    "\n",
    "La función recibirá como parámetros una lista de números y un valor_umbral y devolverá la lista de números cuyos cuadrados sean mayores que el valor_umbral, utilizando para ello las funciones lambda, map, filter y list.\n",
    "\n",
    "\n",
    "```python\t\n",
    "def aplicar_funcion_y_filtrar(lista, valor_maximo):\n",
    "\n",
    "\n",
    "\n",
    "# Ejemplo de uso\n",
    "numeros = [1, 2, 3, 4, 5]\n",
    "valor_umbral = 3\n",
    "resultado = aplicar_funcion_y_filtrar(numeros, valor_umbral)\n",
    "print(resultado)\n",
    "```\t\n",
    "\n",
    "Resultado:\n",
    "\n",
    "[4, 9, 16, 25]"
   ]
  },
  {
   "cell_type": "code",
   "execution_count": 5,
   "metadata": {},
   "outputs": [
    {
     "name": "stdout",
     "output_type": "stream",
     "text": [
      "[4, 9, 16, 25]\n"
     ]
    }
   ],
   "source": [
    "# Implementación de la función aplicar_funcion_y_filtrar\n",
    "def aplicar_funcion_y_filtrar(lista, valor_umbral):\n",
    "    # Calcular el cuadrado de cada número y filtrar los mayores que valor_umbral\n",
    "    resultado = list(filter(lambda x: x > valor_umbral, map(lambda x: x**2, lista)))\n",
    "    return resultado\n",
    "\n",
    "# Ejemplo de uso\n",
    "numeros = [1, 2, 3, 4, 5]\n",
    "valor_umbral = 3\n",
    "resultado = aplicar_funcion_y_filtrar(numeros, valor_umbral)\n",
    "print(resultado)\n"
   ]
  },
  {
   "cell_type": "code",
   "execution_count": 6,
   "metadata": {},
   "outputs": [
    {
     "name": "stderr",
     "output_type": "stream",
     "text": [
      "test_aplicar_funcion_y_filtrar (__main__.TestAplicarFuncionYFiltrar) ... ok\n",
      "\n",
      "----------------------------------------------------------------------\n",
      "Ran 1 test in 0.001s\n",
      "\n",
      "OK\n"
     ]
    },
    {
     "data": {
      "text/plain": [
       "<unittest.main.TestProgram at 0x7fee2bedb700>"
      ]
     },
     "execution_count": 6,
     "metadata": {},
     "output_type": "execute_result"
    }
   ],
   "source": [
    "import unittest\n",
    "\n",
    "# Clase de prueba unitaria para aplicar_funcion_y_filtrar\n",
    "class TestAplicarFuncionYFiltrar(unittest.TestCase):\n",
    "    def test_aplicar_funcion_y_filtrar(self):\n",
    "        self.assertEqual(aplicar_funcion_y_filtrar([1, 2, 3, 4, 5], 3), [4, 9, 16, 25])\n",
    "        self.assertEqual(aplicar_funcion_y_filtrar([0, -2, 3, -4, 5], 4), [9, 16, 25])\n",
    "        self.assertEqual(aplicar_funcion_y_filtrar([-1, -2, -3], 1), [4, 9])\n",
    "        self.assertEqual(aplicar_funcion_y_filtrar([2, 4, 6], 15), [16, 36])\n",
    "        self.assertEqual(aplicar_funcion_y_filtrar([], 5), [])  # Prueba con lista vacía\n",
    "\n",
    "# Ejecución de las pruebas unitarias\n",
    "unittest.main(argv=[''], verbosity=2,  exit=False)\n"
   ]
  }
 ],
 "metadata": {
  "kernelspec": {
   "display_name": ".env",
   "language": "python",
   "name": "python3"
  },
  "language_info": {
   "codemirror_mode": {
    "name": "ipython",
    "version": 3
   },
   "file_extension": ".py",
   "mimetype": "text/x-python",
   "name": "python",
   "nbconvert_exporter": "python",
   "pygments_lexer": "ipython3",
   "version": "3.10.12"
  }
 },
 "nbformat": 4,
 "nbformat_minor": 2
}
