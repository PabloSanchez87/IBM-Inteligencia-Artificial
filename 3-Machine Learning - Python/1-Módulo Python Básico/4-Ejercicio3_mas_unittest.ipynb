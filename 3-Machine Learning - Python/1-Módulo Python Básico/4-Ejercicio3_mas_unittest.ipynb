{
 "cells": [
  {
   "cell_type": "markdown",
   "metadata": {},
   "source": [
    "**Frecuencia de elementos en una lista**\n",
    "\n",
    "Crear una función denominada 'contar_frecuencia' que tome una lista de números y calcule las veces (frecuencia) que aparece cada número en la lista y devuelva los resultados en forma de diccionario, donde cada clave será cada número distinto de la lista y cada valor será el número de veces que aparece ese número en la lista.\n",
    "\n",
    "```python\t\n",
    "def contar_frecuencia(lista):\n",
    "\n",
    "\n",
    "\n",
    "# Ejemplo de uso\n",
    "elementos = [1, 2, 2, 3, 1, 2, 4, 5, 4]\n",
    "resultado = contar_frecuencia(elementos)\n",
    "print(resultado)\n",
    "\n",
    "```\n",
    "\n",
    "{1: 2, 2: 3, 3: 1, 4: 2, 5: 1}\n"
   ]
  },
  {
   "cell_type": "code",
   "execution_count": 1,
   "metadata": {},
   "outputs": [
    {
     "name": "stdout",
     "output_type": "stream",
     "text": [
      "{1: 2, 2: 3, 3: 1, 4: 2, 5: 1}\n"
     ]
    }
   ],
   "source": [
    "# Implementación de la función contar_frecuencia\n",
    "def contar_frecuencia(lista):\n",
    "    frecuencia = {}\n",
    "    for numero in lista:\n",
    "        if numero in frecuencia:\n",
    "            frecuencia[numero] += 1\n",
    "        else:\n",
    "            frecuencia[numero] = 1\n",
    "    return frecuencia\n",
    "\n",
    "# Ejemplo de uso\n",
    "elementos = [1, 2, 2, 3, 1, 2, 4, 5, 4]\n",
    "resultado = contar_frecuencia(elementos)\n",
    "print(resultado)\n"
   ]
  },
  {
   "cell_type": "code",
   "execution_count": 3,
   "metadata": {},
   "outputs": [
    {
     "name": "stderr",
     "output_type": "stream",
     "text": [
      "test_frecuencia (__main__.TestContarFrecuencia) ... ok\n",
      "\n",
      "----------------------------------------------------------------------\n",
      "Ran 1 test in 0.001s\n",
      "\n",
      "OK\n"
     ]
    },
    {
     "data": {
      "text/plain": [
       "<unittest.main.TestProgram at 0x7fa6f0109de0>"
      ]
     },
     "execution_count": 3,
     "metadata": {},
     "output_type": "execute_result"
    }
   ],
   "source": [
    "import unittest\n",
    "\n",
    "# Clase de prueba unitaria para contar_frecuencia\n",
    "class TestContarFrecuencia(unittest.TestCase):\n",
    "    def test_frecuencia(self):\n",
    "        self.assertEqual(contar_frecuencia([1, 2, 2, 3, 1, 2, 4, 5, 4]), {1: 2, 2: 3, 3: 1, 4: 2, 5: 1})\n",
    "        self.assertEqual(contar_frecuencia([10, 20, 10, 30, 20, 30, 30]), {10: 2, 20: 2, 30: 3})\n",
    "        self.assertEqual(contar_frecuencia([5, 5, 5]), {5: 3})\n",
    "        self.assertEqual(contar_frecuencia([]), {})  # Prueba con lista vacía\n",
    "        self.assertEqual(contar_frecuencia([-5, -5, 10, 0, 10]), {-5: 2, 10: 2, 0: 1})\n",
    "\n",
    "# Ejecución de las pruebas unitarias\n",
    "unittest.main(argv=[''], verbosity=2,  exit=False)\n"
   ]
  },
  {
   "cell_type": "code",
   "execution_count": null,
   "metadata": {},
   "outputs": [],
   "source": []
  }
 ],
 "metadata": {
  "kernelspec": {
   "display_name": ".env",
   "language": "python",
   "name": "python3"
  },
  "language_info": {
   "codemirror_mode": {
    "name": "ipython",
    "version": 3
   },
   "file_extension": ".py",
   "mimetype": "text/x-python",
   "name": "python",
   "nbconvert_exporter": "python",
   "pygments_lexer": "ipython3",
   "version": "3.10.12"
  }
 },
 "nbformat": 4,
 "nbformat_minor": 2
}
