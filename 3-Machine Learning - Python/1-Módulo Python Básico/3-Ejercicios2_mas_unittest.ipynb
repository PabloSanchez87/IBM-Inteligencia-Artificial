{
 "cells": [
  {
   "cell_type": "markdown",
   "metadata": {},
   "source": [
    "**Calcular la suma y promedio de una lista de números**\n",
    "\n",
    "Desarrolla una función llamada 'calcular_suma_y_promedio' que tome como entrada una lista de números y calcule la suma de todos los números de la lista y el promedio de esos números.\n",
    "\n",
    "La función devolverá un diccionario con los resultados de la suma y el promedio\n",
    "\n",
    "```python\n",
    "def calcular_suma_y_promedio(lista_numeros):\n",
    "\n",
    "\n",
    "\n",
    "# Pruebas\n",
    "numeros = [1, 2, 3, 4, 5]\n",
    "resultado = calcular_suma_y_promedio(numeros)\n",
    "print(\"Suma:\", resultado[\"suma\"])\n",
    "print(\"Promedio:\", resultado[\"promedio\"])\n",
    "```\n",
    "\n",
    "Suma: 15\n",
    "\n",
    "Promedio: 3.0"
   ]
  },
  {
   "cell_type": "code",
   "execution_count": 4,
   "metadata": {},
   "outputs": [
    {
     "name": "stdout",
     "output_type": "stream",
     "text": [
      "Suma: 15\n",
      "Promedio: 3.0\n"
     ]
    }
   ],
   "source": [
    "# Implementación de la función calcular_suma_y_promedio\n",
    "def calcular_suma_y_promedio(lista_numeros):\n",
    "    if not lista_numeros:  # Verificar si la lista está vacía\n",
    "        return {\"suma\": 0, \"promedio\": 0}\n",
    "    suma = sum(lista_numeros)\n",
    "    promedio = suma / len(lista_numeros)\n",
    "    return {\"suma\": suma, \"promedio\": promedio}\n",
    "\n",
    "# Prueba inicial de la función\n",
    "numeros = [1, 2, 3, 4, 5]\n",
    "resultado = calcular_suma_y_promedio(numeros)\n",
    "print(\"Suma:\", resultado[\"suma\"])\n",
    "print(\"Promedio:\", resultado[\"promedio\"])\n"
   ]
  },
  {
   "cell_type": "code",
   "execution_count": 6,
   "metadata": {},
   "outputs": [
    {
     "name": "stderr",
     "output_type": "stream",
     "text": [
      "test_suma_y_promedio (__main__.TestCalcularSumaYPromedio) ... ok\n",
      "\n",
      "----------------------------------------------------------------------\n",
      "Ran 1 test in 0.001s\n",
      "\n",
      "OK\n"
     ]
    },
    {
     "data": {
      "text/plain": [
       "<unittest.main.TestProgram at 0x7f28b477b6d0>"
      ]
     },
     "execution_count": 6,
     "metadata": {},
     "output_type": "execute_result"
    }
   ],
   "source": [
    "import unittest\n",
    "\n",
    "# Clase de prueba unitaria para calcular_suma_y_promedio\n",
    "class TestCalcularSumaYPromedio(unittest.TestCase):\n",
    "    def test_suma_y_promedio(self):\n",
    "        self.assertEqual(calcular_suma_y_promedio([1, 2, 3, 4, 5]), {\"suma\": 15, \"promedio\": 3.0})\n",
    "        self.assertEqual(calcular_suma_y_promedio([10, 20, 30]), {\"suma\": 60, \"promedio\": 20.0})\n",
    "        self.assertEqual(calcular_suma_y_promedio([5]), {\"suma\": 5, \"promedio\": 5.0})\n",
    "        self.assertEqual(calcular_suma_y_promedio([0, 0, 0]), {\"suma\": 0, \"promedio\": 0.0})\n",
    "        self.assertEqual(calcular_suma_y_promedio([-5, 5, 10]), {\"suma\": 10, \"promedio\": 10/3})\n",
    "        # Prueba con lista vacía\n",
    "        self.assertEqual(calcular_suma_y_promedio([]), {\"suma\": 0, \"promedio\": 0})\n",
    "\n",
    "# Ejecución de las pruebas unitarias\n",
    "unittest.main(argv=[''], verbosity=2,  exit=False)\n"
   ]
  },
  {
   "cell_type": "code",
   "execution_count": null,
   "metadata": {},
   "outputs": [],
   "source": []
  }
 ],
 "metadata": {
  "kernelspec": {
   "display_name": ".env",
   "language": "python",
   "name": "python3"
  },
  "language_info": {
   "codemirror_mode": {
    "name": "ipython",
    "version": 3
   },
   "file_extension": ".py",
   "mimetype": "text/x-python",
   "name": "python",
   "nbconvert_exporter": "python",
   "pygments_lexer": "ipython3",
   "version": "3.10.12"
  }
 },
 "nbformat": 4,
 "nbformat_minor": 2
}
