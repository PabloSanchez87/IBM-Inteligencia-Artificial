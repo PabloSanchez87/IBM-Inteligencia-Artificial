{
 "cells": [
  {
   "cell_type": "markdown",
   "metadata": {},
   "source": [
    "# Clasificación Binaria\n",
    "Supongamos que tienes un conjunto de datos que contiene información sobre pacientes y deseas predecir si un paciente tiene una enfermedad (1) o no (0) en función de algunas características médicas, como la edad y los niveles de colesterol.\n",
    "\n",
    "Tu tarea es desarrollar una función llamada regresion_logistica que tome estos datos como entrada y ajuste un modelo de regresión logística para la clasificación binaria.\n",
    "\n",
    "```python\n",
    "def regresion_logistica(datos):\n",
    "\n",
    "# Ejemplo de uso con datos de pacientes\n",
    "data = {\n",
    "    'Edad': [50, 35, 65, 28, 60],\n",
    "    'Colesterol': [180, 150, 210, 130, 190],\n",
    "    'Enfermedad': [1, 0, 1, 0, 1]\n",
    "}\n",
    " \n",
    "df = pd.DataFrame(data)\n",
    "modelo_regresion_logistica = regresion_logistica(df)\n",
    " \n",
    "# Estimaciones de clasificación binaria para nuevos datos\n",
    "nuevos_datos = pd.DataFrame({'Edad': [45, 55], 'Colesterol': [170, 200]})\n",
    "estimaciones_clasificacion = modelo_regresion_logistica.predict(nuevos_datos)\n",
    "print(\"Estimaciones de Clasificación:\")\n",
    "print(estimaciones_clasificacion)\n",
    "```\n",
    "\n",
    "```\n",
    "Resultados:\n",
    "\n",
    "Estimaciones de Clasificación:\n",
    "[1 1]\n",
    "```"
   ]
  },
  {
   "cell_type": "code",
   "execution_count": 1,
   "metadata": {},
   "outputs": [
    {
     "name": "stdout",
     "output_type": "stream",
     "text": [
      "Estimaciones de Clasificación:\n",
      "[1 1]\n"
     ]
    }
   ],
   "source": [
    "import pandas as pd\n",
    "from sklearn.linear_model import LogisticRegression\n",
    "\n",
    "def regresion_logistica(datos):\n",
    "    # Separar las variables independientes (Edad, Colesterol) y la variable dependiente (Enfermedad)\n",
    "    X = datos[['Edad', 'Colesterol']]\n",
    "    y = datos['Enfermedad']\n",
    "    \n",
    "    # Crear y entrenar el modelo de regresión logística\n",
    "    modelo = LogisticRegression()\n",
    "    modelo.fit(X, y)\n",
    "    \n",
    "    return modelo\n",
    "\n",
    "# Ejemplo de uso con datos de pacientes\n",
    "data = {\n",
    "    'Edad': [50, 35, 65, 28, 60],\n",
    "    'Colesterol': [180, 150, 210, 130, 190],\n",
    "    'Enfermedad': [1, 0, 1, 0, 1]\n",
    "}\n",
    "\n",
    "df = pd.DataFrame(data)\n",
    "modelo_regresion_logistica = regresion_logistica(df)\n",
    "\n",
    "# Estimaciones de clasificación binaria para nuevos datos\n",
    "nuevos_datos = pd.DataFrame({'Edad': [45, 55], 'Colesterol': [170, 200]})\n",
    "estimaciones_clasificacion = modelo_regresion_logistica.predict(nuevos_datos)\n",
    "\n",
    "print(\"Estimaciones de Clasificación:\")\n",
    "print(estimaciones_clasificacion)\n"
   ]
  }
 ],
 "metadata": {
  "kernelspec": {
   "display_name": ".env",
   "language": "python",
   "name": "python3"
  },
  "language_info": {
   "codemirror_mode": {
    "name": "ipython",
    "version": 3
   },
   "file_extension": ".py",
   "mimetype": "text/x-python",
   "name": "python",
   "nbconvert_exporter": "python",
   "pygments_lexer": "ipython3",
   "version": "3.10.12"
  }
 },
 "nbformat": 4,
 "nbformat_minor": 2
}
