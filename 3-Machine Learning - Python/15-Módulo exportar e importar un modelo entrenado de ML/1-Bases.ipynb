{
 "cells": [
  {
   "cell_type": "markdown",
   "metadata": {},
   "source": [
    "# Exportar modelo a un fichero\n",
    "Una vez que hemos entrenado nuestro modelo, podemos guardarlo en un fichero binario (mediante la librería pickle) para poder llevarlo a otro entorno o programa.\n",
    "\n",
    "## Pasos:\n",
    "\n",
    "1.- Importamos la librería pickle\n",
    "\n",
    "`import pickle`\n",
    "\n",
    "2.- Creamos un fichero binario (modelo_entrenado.pickle) con el modelo entrenado\n",
    "\n",
    "```python\t\n",
    "with open(\"modelo_entrenado.pickle\", \"wb\") as file:\n",
    "    pickle.dump(modelo_entrenado, file)\n",
    "```"
   ]
  },
  {
   "cell_type": "markdown",
   "metadata": {},
   "source": [
    "# Importar modelo desde un fichero\n",
    "Si queremos importar un modelo de machine learning ya entrenado que está grabado en un fichero binario, seguiremos estos pasos:\n",
    "\n",
    "1.- Importamos la librería pickle\n",
    "\n",
    "`import pickle`\n",
    "\n",
    "2.- Importamos el modelo desde el fichero binario \"modelo_entrenado.pickle\"\n",
    "\n",
    "```python\n",
    "with open('modelo_entrenado.pickle', \"rb\") as file:\n",
    "    modelo_entrenado = pickle.load(file)\n",
    "```"
   ]
  },
  {
   "cell_type": "markdown",
   "metadata": {},
   "source": [
    "---\n",
    "1. Guardar modelo en un fichero\n",
    "2. Crear un nuevo modelo con los datos del fichero\n",
    "3. Utilizar el nuevo modelo"
   ]
  }
 ],
 "metadata": {
  "language_info": {
   "name": "python"
  }
 },
 "nbformat": 4,
 "nbformat_minor": 2
}
