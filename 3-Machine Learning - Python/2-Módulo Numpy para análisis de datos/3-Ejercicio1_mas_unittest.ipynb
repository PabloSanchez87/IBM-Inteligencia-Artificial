{
 "cells": [
  {
   "cell_type": "markdown",
   "metadata": {},
   "source": [
    "**Generar N números aleatorios enteros entre un valor mínimo y máximo**\n",
    "\n",
    "Desarrolla una función llamada generar_numeros_enteros_aleatorios que tome como entrada el número de elementos N, un valor mínimo minimo y un valor máximo maximo, y utilice NumPy para generar una lista de N números enteros aleatorios en el rango [minimo, maximo].\n",
    "\n",
    "```python\t\n",
    "    def generar_numeros_enteros_aleatorios(N, minimo, maximo):\n",
    "\n",
    "    # Ejemplo de uso\n",
    "    N = 5\n",
    "    minimo = 1\n",
    "    maximo = 10\n",
    "    resultado = generar_numeros_enteros_aleatorios(N, minimo, maximo)\n",
    "    print(resultado)\n",
    "```\n",
    "\n",
    "Resultado:\n",
    "\n",
    "[4, 10, 1, 8, 2]\n"
   ]
  },
  {
   "cell_type": "code",
   "execution_count": 1,
   "metadata": {},
   "outputs": [
    {
     "name": "stdout",
     "output_type": "stream",
     "text": [
      "[np.int64(6), np.int64(9), np.int64(2), np.int64(3), np.int64(5)]\n"
     ]
    }
   ],
   "source": [
    "import numpy as np\n",
    "\n",
    "# Implementación de la función generar_numeros_enteros_aleatorios\n",
    "def generar_numeros_enteros_aleatorios(N, minimo, maximo):\n",
    "    # Generar N números aleatorios enteros en el rango [minimo, maximo]\n",
    "    return list(np.random.randint(minimo, maximo + 1, N))\n",
    "\n",
    "# Ejemplo de uso\n",
    "N = 5\n",
    "minimo = 1\n",
    "maximo = 10\n",
    "resultado = generar_numeros_enteros_aleatorios(N, minimo, maximo)\n",
    "print(resultado)\n"
   ]
  },
  {
   "cell_type": "code",
   "execution_count": 2,
   "metadata": {},
   "outputs": [
    {
     "name": "stderr",
     "output_type": "stream",
     "text": [
      "test_longitud_lista (__main__.TestGenerarNumerosEnterosAleatorios) ... ok\n",
      "test_rango_unico (__main__.TestGenerarNumerosEnterosAleatorios) ... ok\n",
      "test_rango_valores (__main__.TestGenerarNumerosEnterosAleatorios) ... ok\n",
      "test_valores_negativos (__main__.TestGenerarNumerosEnterosAleatorios) ... ok\n",
      "\n",
      "----------------------------------------------------------------------\n",
      "Ran 4 tests in 0.003s\n",
      "\n",
      "OK\n"
     ]
    },
    {
     "data": {
      "text/plain": [
       "<unittest.main.TestProgram at 0x7f09281df010>"
      ]
     },
     "execution_count": 2,
     "metadata": {},
     "output_type": "execute_result"
    }
   ],
   "source": [
    "import unittest\n",
    "\n",
    "# Clase de prueba unitaria para generar_numeros_enteros_aleatorios\n",
    "class TestGenerarNumerosEnterosAleatorios(unittest.TestCase):\n",
    "    def test_longitud_lista(self):\n",
    "        # Comprobar que la lista generada tiene el tamaño N\n",
    "        self.assertEqual(len(generar_numeros_enteros_aleatorios(5, 1, 10)), 5)\n",
    "        self.assertEqual(len(generar_numeros_enteros_aleatorios(10, -5, 5)), 10)\n",
    "\n",
    "    def test_rango_valores(self):\n",
    "        # Comprobar que todos los valores generados están dentro del rango [minimo, maximo]\n",
    "        resultado = generar_numeros_enteros_aleatorios(100, 0, 50)\n",
    "        for valor in resultado:\n",
    "            self.assertTrue(0 <= valor <= 50)\n",
    "\n",
    "    def test_valores_negativos(self):\n",
    "        # Comprobar que funciona correctamente con rangos negativos\n",
    "        resultado = generar_numeros_enteros_aleatorios(20, -10, -1)\n",
    "        for valor in resultado:\n",
    "            self.assertTrue(-10 <= valor <= -1)\n",
    "\n",
    "    def test_rango_unico(self):\n",
    "        # Comprobar que genera correctamente el mismo número cuando el rango es un valor único\n",
    "        resultado = generar_numeros_enteros_aleatorios(5, 4, 4)\n",
    "        self.assertEqual(resultado, [4, 4, 4, 4, 4])\n",
    "\n",
    "# Ejecución de las pruebas unitarias\n",
    "unittest.main(argv=[''], verbosity=2, exit=False)\n"
   ]
  }
 ],
 "metadata": {
  "kernelspec": {
   "display_name": ".env",
   "language": "python",
   "name": "python3"
  },
  "language_info": {
   "codemirror_mode": {
    "name": "ipython",
    "version": 3
   },
   "file_extension": ".py",
   "mimetype": "text/x-python",
   "name": "python",
   "nbconvert_exporter": "python",
   "pygments_lexer": "ipython3",
   "version": "3.10.12"
  }
 },
 "nbformat": 4,
 "nbformat_minor": 2
}
