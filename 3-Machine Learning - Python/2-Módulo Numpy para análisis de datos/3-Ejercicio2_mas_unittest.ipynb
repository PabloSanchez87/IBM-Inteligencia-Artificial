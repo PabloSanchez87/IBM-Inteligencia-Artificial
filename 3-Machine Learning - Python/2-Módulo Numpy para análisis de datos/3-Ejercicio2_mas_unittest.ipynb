{
 "cells": [
  {
   "cell_type": "markdown",
   "metadata": {},
   "source": [
    "**Generar una Secuencia de Números**\n",
    "\n",
    "Desarrolla una función llamada generar_secuencia_numerica que tome como entrada un valor mínimo minimo, un valor máximo maximo y un paso paso, y utilice NumPy para generar una secuencia de números en el rango [minimo, maximo] con el paso especificado.\n",
    "\n",
    "```python\t\n",
    "    def generar_secuencia_numerica(minimo, maximo, paso):\n",
    "\n",
    "    # Ejemplo de uso\n",
    "    minimo = 0\n",
    "    maximo = 10\n",
    "    paso = 2\n",
    "    resultado = generar_secuencia_numerica(minimo, maximo, paso)\n",
    "    print(resultado)\n",
    "\n",
    "\n",
    "    Resultado\n",
    "\n",
    "    [0 2 4 6 8]\n",
    "\n",
    "```\n",
    "\n",
    "Tipo de datos del resultado\n",
    "\n",
    "type(resultado)\n",
    "numpy.ndarray\n",
    "\n",
    "\n",
    "\n"
   ]
  },
  {
   "cell_type": "code",
   "execution_count": 1,
   "metadata": {},
   "outputs": [
    {
     "name": "stdout",
     "output_type": "stream",
     "text": [
      "[0 2 4 6 8]\n",
      "Tipo de datos del resultado: <class 'numpy.ndarray'>\n"
     ]
    }
   ],
   "source": [
    "import numpy as np\n",
    "\n",
    "# Implementación de la función generar_secuencia_numerica\n",
    "def generar_secuencia_numerica(minimo, maximo, paso):\n",
    "    # Generar una secuencia de números en el rango [minimo, maximo) con el paso especificado\n",
    "    return np.arange(minimo, maximo, paso)\n",
    "\n",
    "# Ejemplo de uso\n",
    "minimo = 0\n",
    "maximo = 10\n",
    "paso = 2\n",
    "resultado = generar_secuencia_numerica(minimo, maximo, paso)\n",
    "print(resultado)\n",
    "\n",
    "# Verificar el tipo de dato\n",
    "print(\"Tipo de datos del resultado:\", type(resultado))\n"
   ]
  },
  {
   "cell_type": "code",
   "execution_count": 2,
   "metadata": {},
   "outputs": [
    {
     "name": "stderr",
     "output_type": "stream",
     "text": [
      "test_secuencia_basica (__main__.TestGenerarSecuenciaNumerica) ... ok\n",
      "test_secuencia_inversa (__main__.TestGenerarSecuenciaNumerica) ... ok\n",
      "test_secuencia_negativos (__main__.TestGenerarSecuenciaNumerica) ... ok\n",
      "test_secuencia_paso_decimales (__main__.TestGenerarSecuenciaNumerica) ... ok\n",
      "test_tipo_resultado (__main__.TestGenerarSecuenciaNumerica) ... ok\n",
      "\n",
      "----------------------------------------------------------------------\n",
      "Ran 5 tests in 0.022s\n",
      "\n",
      "OK\n"
     ]
    },
    {
     "data": {
      "text/plain": [
       "<unittest.main.TestProgram at 0x7f15c666bf70>"
      ]
     },
     "execution_count": 2,
     "metadata": {},
     "output_type": "execute_result"
    }
   ],
   "source": [
    "import unittest\n",
    "\n",
    "# Clase de prueba unitaria para generar_secuencia_numerica\n",
    "class TestGenerarSecuenciaNumerica(unittest.TestCase):\n",
    "    def test_secuencia_basica(self):\n",
    "        # Probar con una secuencia básica\n",
    "        np.testing.assert_array_equal(generar_secuencia_numerica(0, 10, 2), np.array([0, 2, 4, 6, 8]))\n",
    "\n",
    "    def test_secuencia_negativos(self):\n",
    "        # Probar con valores negativos\n",
    "        np.testing.assert_array_equal(generar_secuencia_numerica(-10, 0, 2), np.array([-10, -8, -6, -4, -2]))\n",
    "\n",
    "    def test_secuencia_paso_decimales(self):\n",
    "        # Probar con pasos decimales (usar assert_allclose en lugar de assert_array_equal)\n",
    "        np.testing.assert_allclose(generar_secuencia_numerica(0, 1, 0.2), np.array([0. , 0.2, 0.4, 0.6, 0.8]), rtol=1e-7, atol=1e-7)\n",
    "\n",
    "    def test_secuencia_inversa(self):\n",
    "        # Probar con rango inverso y paso negativo\n",
    "        np.testing.assert_array_equal(generar_secuencia_numerica(10, 0, -2), np.array([10, 8, 6, 4, 2]))\n",
    "\n",
    "    def test_tipo_resultado(self):\n",
    "        # Verificar que el resultado sea un ndarray de numpy\n",
    "        self.assertIsInstance(generar_secuencia_numerica(0, 10, 2), np.ndarray)\n",
    "\n",
    "# Ejecución de las pruebas unitarias\n",
    "unittest.main(argv=[''], verbosity=2, exit=False)\n"
   ]
  }
 ],
 "metadata": {
  "kernelspec": {
   "display_name": ".env",
   "language": "python",
   "name": "python3"
  },
  "language_info": {
   "codemirror_mode": {
    "name": "ipython",
    "version": 3
   },
   "file_extension": ".py",
   "mimetype": "text/x-python",
   "name": "python",
   "nbconvert_exporter": "python",
   "pygments_lexer": "ipython3",
   "version": "3.10.12"
  }
 },
 "nbformat": 4,
 "nbformat_minor": 2
}
