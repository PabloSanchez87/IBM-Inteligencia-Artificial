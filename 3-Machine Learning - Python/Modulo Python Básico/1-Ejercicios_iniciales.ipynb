{
 "cells": [
  {
   "cell_type": "markdown",
   "metadata": {},
   "source": [
    "**Ejercicio 1**\n",
    "\n",
    "Dada la siguiente frase:\n",
    "\n",
    "*frase = \"Hola, este es un curso básico de Python\"*\n",
    "\n",
    "- Divide la frase en palabras y cuenta el número de palabras que contiene la frase.\n",
    "- Muestra el resultado mediante un print de la siguiente manera:\n",
    "    - El número de palabras es ..."
   ]
  },
  {
   "cell_type": "code",
   "execution_count": 6,
   "metadata": {},
   "outputs": [],
   "source": [
    "frase = \"Hola, este es un curso básico de Python\""
   ]
  },
  {
   "cell_type": "code",
   "execution_count": 7,
   "metadata": {},
   "outputs": [
    {
     "data": {
      "text/plain": [
       "['Hola,', 'este', 'es', 'un', 'curso', 'básico', 'de', 'Python']"
      ]
     },
     "execution_count": 7,
     "metadata": {},
     "output_type": "execute_result"
    }
   ],
   "source": [
    "palabras = frase.split()\n",
    "palabras"
   ]
  },
  {
   "cell_type": "code",
   "execution_count": 8,
   "metadata": {},
   "outputs": [
    {
     "name": "stdout",
     "output_type": "stream",
     "text": [
      "El número de palabras es 8\n"
     ]
    }
   ],
   "source": [
    "numero = 0\n",
    "for palabra in palabras:\n",
    "    numero += 1\n",
    "\n",
    "print (f\"El número de palabras es {numero}\")"
   ]
  },
  {
   "cell_type": "markdown",
   "metadata": {},
   "source": [
    "---"
   ]
  },
  {
   "cell_type": "markdown",
   "metadata": {},
   "source": [
    "**Ejercicio 2**\n",
    "\n",
    "Dada la siguiente lista de números:\n",
    "\n",
    "```python\n",
    "lista = [1,-1,4,-15,9,7,6,-3,2,-20]\n",
    "```\n",
    "\n",
    "- Crear una función \"positivo\" que pasando como parámetro un número, lo devuelve tal cual si es positivo, o no devuelve nada si el número es negativo.\n",
    "- Crear una nueva lista \"lista2\", que mediante \"filter\", contenga sólo los números positivos de la lista original."
   ]
  },
  {
   "cell_type": "code",
   "execution_count": 10,
   "metadata": {},
   "outputs": [
    {
     "data": {
      "text/plain": [
       "[1, -1, 4, -15, 9, 7, 6, -3, 2, -20]"
      ]
     },
     "execution_count": 10,
     "metadata": {},
     "output_type": "execute_result"
    }
   ],
   "source": [
    "lista = [1,-1,4,-15,9,7,6,-3,2,-20]\n",
    "lista"
   ]
  },
  {
   "cell_type": "code",
   "execution_count": 11,
   "metadata": {},
   "outputs": [],
   "source": [
    "def positivo (numero):\n",
    "    if numero >= 0:\n",
    "        return numero"
   ]
  },
  {
   "cell_type": "code",
   "execution_count": 12,
   "metadata": {},
   "outputs": [],
   "source": [
    "positivo(-5)"
   ]
  },
  {
   "cell_type": "code",
   "execution_count": 13,
   "metadata": {},
   "outputs": [
    {
     "data": {
      "text/plain": [
       "5"
      ]
     },
     "execution_count": 13,
     "metadata": {},
     "output_type": "execute_result"
    }
   ],
   "source": [
    "positivo(5)"
   ]
  },
  {
   "cell_type": "code",
   "execution_count": 15,
   "metadata": {},
   "outputs": [
    {
     "data": {
      "text/plain": [
       "[1, 4, 9, 7, 6, 2]"
      ]
     },
     "execution_count": 15,
     "metadata": {},
     "output_type": "execute_result"
    }
   ],
   "source": [
    "lista2 = list(filter(positivo, lista))\n",
    "lista2"
   ]
  },
  {
   "cell_type": "markdown",
   "metadata": {},
   "source": [
    "---\n"
   ]
  },
  {
   "cell_type": "markdown",
   "metadata": {},
   "source": [
    "**Ejercicio 3**\n",
    "\n",
    "Dada la siguiente listas de palabras:\n",
    "\n",
    "```python\n",
    "lista = ['manzana', 'platano', 'melocoton', 'pera', 'manzana', 'pera', 'limon', 'platano', 'naranja']\n",
    "```\n",
    "\n",
    "- Crea una nueva lista \"lista_sin_duplicados\" eliminando las palabras repetidas.\n",
    "    - Pista: Utilizar conjuntos \n"
   ]
  },
  {
   "cell_type": "code",
   "execution_count": 16,
   "metadata": {},
   "outputs": [
    {
     "data": {
      "text/plain": [
       "['manzana',\n",
       " 'platano',\n",
       " 'melocoton',\n",
       " 'pera',\n",
       " 'manzana',\n",
       " 'pera',\n",
       " 'limon',\n",
       " 'platano',\n",
       " 'naranja']"
      ]
     },
     "execution_count": 16,
     "metadata": {},
     "output_type": "execute_result"
    }
   ],
   "source": [
    "lista = ['manzana', 'platano', 'melocoton', 'pera', 'manzana', 'pera', 'limon', 'platano', 'naranja']\n",
    "lista"
   ]
  },
  {
   "cell_type": "code",
   "execution_count": 18,
   "metadata": {},
   "outputs": [
    {
     "data": {
      "text/plain": [
       "{'limon', 'manzana', 'melocoton', 'naranja', 'pera', 'platano'}"
      ]
     },
     "execution_count": 18,
     "metadata": {},
     "output_type": "execute_result"
    }
   ],
   "source": [
    "conjunto = set(lista)\n",
    "conjunto"
   ]
  },
  {
   "cell_type": "code",
   "execution_count": 19,
   "metadata": {},
   "outputs": [
    {
     "data": {
      "text/plain": [
       "['melocoton', 'pera', 'manzana', 'platano', 'naranja', 'limon']"
      ]
     },
     "execution_count": 19,
     "metadata": {},
     "output_type": "execute_result"
    }
   ],
   "source": [
    "lista_sin_duplicados =  []\n",
    "\n",
    "for elemento in conjunto:\n",
    "    lista_sin_duplicados.append(elemento)\n",
    "    \n",
    "lista_sin_duplicados"
   ]
  },
  {
   "cell_type": "markdown",
   "metadata": {},
   "source": [
    "---"
   ]
  },
  {
   "cell_type": "markdown",
   "metadata": {},
   "source": [
    "**Ejercicio 3**\n",
    "\n",
    "Crear una función \"dividir_entre_dos\" que divide un número entre 2 y devuelve el resultado.\n",
    "\n",
    "Dada la siguiente lista = [20,18,8,4,10,40,6]\n",
    "\n",
    "- Crear una nueva lista \"lista2\" que mediante la función \"map\" aplique la función \"dividir_entre_dos\" a cada elemento de la lista."
   ]
  },
  {
   "cell_type": "code",
   "execution_count": 21,
   "metadata": {},
   "outputs": [
    {
     "data": {
      "text/plain": [
       "5.0"
      ]
     },
     "execution_count": 21,
     "metadata": {},
     "output_type": "execute_result"
    }
   ],
   "source": [
    "def dividir_entre_dos(numero):\n",
    "    resultado = numero / 2\n",
    "    return resultado\n",
    "\n",
    "dividir_entre_dos(10)"
   ]
  },
  {
   "cell_type": "code",
   "execution_count": 23,
   "metadata": {},
   "outputs": [
    {
     "data": {
      "text/plain": [
       "[10.0, 9.0, 4.0, 2.0, 5.0, 20.0, 3.0]"
      ]
     },
     "execution_count": 23,
     "metadata": {},
     "output_type": "execute_result"
    }
   ],
   "source": [
    "lista = [20,18,8,4,10,40,6]\n",
    "\n",
    "lista2 = list(map(dividir_entre_dos,lista))\n",
    "\n",
    "lista2"
   ]
  },
  {
   "cell_type": "markdown",
   "metadata": {},
   "source": [
    "---"
   ]
  }
 ],
 "metadata": {
  "kernelspec": {
   "display_name": ".env",
   "language": "python",
   "name": "python3"
  },
  "language_info": {
   "codemirror_mode": {
    "name": "ipython",
    "version": 3
   },
   "file_extension": ".py",
   "mimetype": "text/x-python",
   "name": "python",
   "nbconvert_exporter": "python",
   "pygments_lexer": "ipython3",
   "version": "3.10.12"
  }
 },
 "nbformat": 4,
 "nbformat_minor": 2
}
