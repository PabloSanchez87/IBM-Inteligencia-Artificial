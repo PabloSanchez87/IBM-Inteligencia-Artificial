{
 "cells": [
  {
   "cell_type": "markdown",
   "metadata": {},
   "source": [
    "# Regresión Lineal con Datos de Ventas\n",
    "\n",
    "Supongamos que tienes un conjunto de datos que contiene información sobre las ventas de una tienda y la cantidad de dinero que se gastó en publicidad en diferentes medios (por ejemplo, televisión, radio y periódico).\n",
    "\n",
    "Tu tarea es desarrollar una función llamada regresion_ventas que tome estos datos como entrada y ajuste un modelo de regresión lineal para predecir las futuras ventas en función de la inversión en publicidad.\n",
    "\n",
    "```python\t\n",
    "def regresion_ventas(datos): \n",
    "\n",
    "# Ejemplo de uso con datos reales\n",
    "data = {\n",
    "    'TV': [230.1, 44.5, 17.2, 151.5, 180.8],\n",
    "    'Radio': [37.8, 39.3, 45.9, 41.3, 10.8],\n",
    "    'Periodico': [69.2, 45.1, 69.3, 58.5, 58.4],\n",
    "    'Ventas': [22.1, 10.4, 9.3, 18.5, 12.9]\n",
    "}\n",
    "df = pd.DataFrame(data)\n",
    "modelo_regresion = regresion_ventas(df)\n",
    " \n",
    "# Estimaciones de ventas para nuevos datos de inversión en publicidad\n",
    "nuevos_datos = pd.DataFrame({'TV': [200, 60, 30], 'Radio': [40, 20, 10], 'Periodico': [50, 10, 5]})\n",
    "estimaciones_ventas = modelo_regresion.predict(nuevos_datos)\n",
    " \n",
    "print(\"Estimaciones de Ventas:\")\n",
    "print(estimaciones_ventas)\n",
    "\n",
    "```\n",
    "```\n",
    "Resultado:\n",
    "\n",
    "Estimaciones de Ventas:\n",
    "[21.54261464  8.48121675  4.16961329]\n",
    "```\n",
    "\n",
    " "
   ]
  },
  {
   "cell_type": "code",
   "execution_count": 10,
   "metadata": {},
   "outputs": [
    {
     "name": "stdout",
     "output_type": "stream",
     "text": [
      "Estimaciones de Ventas:\n",
      "[21.54261464  8.48121675  4.16961329]\n"
     ]
    }
   ],
   "source": [
    "import pandas as pd\n",
    "from sklearn.linear_model import LinearRegression\n",
    "from sklearn.model_selection import train_test_split\n",
    "\n",
    "def regresion_ventas(datos):\n",
    "    # Separar las variables independientes (TV, Radio, Periodico) y la variable dependiente (Ventas)\n",
    "    X = datos[['TV', 'Radio', 'Periodico']]\n",
    "    y = datos['Ventas']\n",
    "    \n",
    "    # Crear el modelo de regresión lineal\n",
    "    modelo = LinearRegression()\n",
    "    \n",
    "    # Entrenar el modelo\n",
    "    modelo.fit(X, y)\n",
    "    \n",
    "    return modelo\n",
    "\n",
    "# Ejemplo de uso con datos reales\n",
    "data = {\n",
    "    'TV': [230.1, 44.5, 17.2, 151.5, 180.8],\n",
    "    'Radio': [37.8, 39.3, 45.9, 41.3, 10.8],\n",
    "    'Periodico': [69.2, 45.1, 69.3, 58.5, 58.4],\n",
    "    'Ventas': [22.1, 10.4, 9.3, 18.5, 12.9]\n",
    "}\n",
    "df = pd.DataFrame(data)\n",
    "modelo_regresion = regresion_ventas(df)\n",
    "\n",
    "# Estimaciones de ventas para nuevos datos de inversión en publicidad\n",
    "nuevos_datos = pd.DataFrame({'TV': [200, 60, 30], 'Radio': [40, 20, 10], 'Periodico': [50, 10, 5]})\n",
    "estimaciones_ventas = modelo_regresion.predict(nuevos_datos)\n",
    "\n",
    "print(\"Estimaciones de Ventas:\")\n",
    "print(estimaciones_ventas)"
   ]
  }
 ],
 "metadata": {
  "kernelspec": {
   "display_name": ".env",
   "language": "python",
   "name": "python3"
  },
  "language_info": {
   "codemirror_mode": {
    "name": "ipython",
    "version": 3
   },
   "file_extension": ".py",
   "mimetype": "text/x-python",
   "name": "python",
   "nbconvert_exporter": "python",
   "pygments_lexer": "ipython3",
   "version": "3.10.12"
  }
 },
 "nbformat": 4,
 "nbformat_minor": 2
}
